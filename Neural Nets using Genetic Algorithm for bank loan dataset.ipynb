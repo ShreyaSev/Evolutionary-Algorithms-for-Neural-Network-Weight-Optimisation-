{
 "cells": [
  {
   "cell_type": "markdown",
   "id": "b18f078c",
   "metadata": {},
   "source": [
    "# Neural Network Weight Optimisation Using Genetic Algorithms"
   ]
  },
  {
   "cell_type": "markdown",
   "id": "c4b003ac",
   "metadata": {},
   "source": [
    "## Tensorflow and PyGAD"
   ]
  },
  {
   "cell_type": "markdown",
   "id": "fea3c619",
   "metadata": {},
   "source": [
    "### Importing Libararies"
   ]
  },
  {
   "cell_type": "code",
   "execution_count": 1,
   "id": "d472a0bf",
   "metadata": {},
   "outputs": [
    {
     "name": "stderr",
     "output_type": "stream",
     "text": [
      "2023-04-04 20:44:56.042180: I tensorflow/core/platform/cpu_feature_guard.cc:182] This TensorFlow binary is optimized to use available CPU instructions in performance-critical operations.\n",
      "To enable the following instructions: AVX2 FMA, in other operations, rebuild TensorFlow with the appropriate compiler flags.\n",
      "2023-04-04 20:44:56.769842: W tensorflow/compiler/tf2tensorrt/utils/py_utils.cc:38] TF-TRT Warning: Could not find TensorRT\n"
     ]
    }
   ],
   "source": [
    "import sklearn\n",
    "import pandas as pd\n",
    "import pygad\n",
    "import numpy as np\n",
    "import tensorflow as tf\n",
    "from tensorflow.keras import Sequential\n",
    "from sklearn.model_selection import train_test_split\n",
    "from keras.utils import np_utils\n",
    "from pygad.kerasga import KerasGA"
   ]
  },
  {
   "cell_type": "markdown",
   "id": "212206a1",
   "metadata": {},
   "source": [
    "### Configuring GPU"
   ]
  },
  {
   "cell_type": "code",
   "execution_count": 2,
   "id": "c8288ea1",
   "metadata": {},
   "outputs": [
    {
     "name": "stderr",
     "output_type": "stream",
     "text": [
      "2023-04-04 20:44:57.608202: E tensorflow/compiler/xla/stream_executor/cuda/cuda_driver.cc:266] failed call to cuInit: CUDA_ERROR_UNKNOWN: unknown error\n",
      "2023-04-04 20:44:57.608229: I tensorflow/compiler/xla/stream_executor/cuda/cuda_diagnostics.cc:168] retrieving CUDA diagnostic information for host: shreya-Victus-by-HP-Laptop-16-e0xxx\n",
      "2023-04-04 20:44:57.608233: I tensorflow/compiler/xla/stream_executor/cuda/cuda_diagnostics.cc:175] hostname: shreya-Victus-by-HP-Laptop-16-e0xxx\n",
      "2023-04-04 20:44:57.608355: I tensorflow/compiler/xla/stream_executor/cuda/cuda_diagnostics.cc:199] libcuda reported version is: 525.85.12\n",
      "2023-04-04 20:44:57.608368: I tensorflow/compiler/xla/stream_executor/cuda/cuda_diagnostics.cc:203] kernel reported version is: 525.85.12\n",
      "2023-04-04 20:44:57.608372: I tensorflow/compiler/xla/stream_executor/cuda/cuda_diagnostics.cc:309] kernel version seems to match DSO: 525.85.12\n"
     ]
    }
   ],
   "source": [
    "gpus = tf.config.list_physical_devices('GPU')\n",
    "if gpus:\n",
    "  try:\n",
    "    # Currently, memory growth needs to be the same across GPUs\n",
    "    for gpu in gpus:\n",
    "      tf.config.experimental.set_memory_growth(gpu, True)\n",
    "    logical_gpus = tf.config.list_logical_devices('GPU')\n",
    "    print(len(gpus), \"Physical GPUs,\", len(logical_gpus), \"Logical GPUs\")\n",
    "  except RuntimeError as e:\n",
    "    # Memory growth must be set before GPUs have been initialized\n",
    "    print(e)"
   ]
  },
  {
   "cell_type": "code",
   "execution_count": 3,
   "id": "24ed038e",
   "metadata": {},
   "outputs": [],
   "source": [
    "df = pd.read_csv('processed_data.csv')"
   ]
  },
  {
   "cell_type": "code",
   "execution_count": 4,
   "id": "5b83bd74",
   "metadata": {},
   "outputs": [],
   "source": [
    "df = df.drop('Unnamed: 0',axis = 1)"
   ]
  },
  {
   "cell_type": "code",
   "execution_count": 5,
   "id": "a51f439d",
   "metadata": {},
   "outputs": [
    {
     "data": {
      "text/html": [
       "<div>\n",
       "<style scoped>\n",
       "    .dataframe tbody tr th:only-of-type {\n",
       "        vertical-align: middle;\n",
       "    }\n",
       "\n",
       "    .dataframe tbody tr th {\n",
       "        vertical-align: top;\n",
       "    }\n",
       "\n",
       "    .dataframe thead th {\n",
       "        text-align: right;\n",
       "    }\n",
       "</style>\n",
       "<table border=\"1\" class=\"dataframe\">\n",
       "  <thead>\n",
       "    <tr style=\"text-align: right;\">\n",
       "      <th></th>\n",
       "      <th>Age</th>\n",
       "      <th>Experience</th>\n",
       "      <th>Income</th>\n",
       "      <th>Family</th>\n",
       "      <th>CCAvg</th>\n",
       "      <th>Education</th>\n",
       "      <th>Mortgage</th>\n",
       "      <th>Securities Account</th>\n",
       "      <th>CD Account</th>\n",
       "      <th>Online</th>\n",
       "      <th>CreditCard</th>\n",
       "      <th>target</th>\n",
       "    </tr>\n",
       "  </thead>\n",
       "  <tbody>\n",
       "    <tr>\n",
       "      <th>0</th>\n",
       "      <td>25</td>\n",
       "      <td>1</td>\n",
       "      <td>49</td>\n",
       "      <td>4</td>\n",
       "      <td>1.6</td>\n",
       "      <td>1</td>\n",
       "      <td>0</td>\n",
       "      <td>1</td>\n",
       "      <td>0</td>\n",
       "      <td>0</td>\n",
       "      <td>0</td>\n",
       "      <td>0</td>\n",
       "    </tr>\n",
       "    <tr>\n",
       "      <th>1</th>\n",
       "      <td>45</td>\n",
       "      <td>19</td>\n",
       "      <td>34</td>\n",
       "      <td>3</td>\n",
       "      <td>1.5</td>\n",
       "      <td>1</td>\n",
       "      <td>0</td>\n",
       "      <td>1</td>\n",
       "      <td>0</td>\n",
       "      <td>0</td>\n",
       "      <td>0</td>\n",
       "      <td>0</td>\n",
       "    </tr>\n",
       "    <tr>\n",
       "      <th>2</th>\n",
       "      <td>39</td>\n",
       "      <td>15</td>\n",
       "      <td>11</td>\n",
       "      <td>1</td>\n",
       "      <td>1.0</td>\n",
       "      <td>1</td>\n",
       "      <td>0</td>\n",
       "      <td>0</td>\n",
       "      <td>0</td>\n",
       "      <td>0</td>\n",
       "      <td>0</td>\n",
       "      <td>0</td>\n",
       "    </tr>\n",
       "    <tr>\n",
       "      <th>3</th>\n",
       "      <td>35</td>\n",
       "      <td>9</td>\n",
       "      <td>100</td>\n",
       "      <td>1</td>\n",
       "      <td>2.7</td>\n",
       "      <td>2</td>\n",
       "      <td>0</td>\n",
       "      <td>0</td>\n",
       "      <td>0</td>\n",
       "      <td>0</td>\n",
       "      <td>0</td>\n",
       "      <td>0</td>\n",
       "    </tr>\n",
       "    <tr>\n",
       "      <th>4</th>\n",
       "      <td>35</td>\n",
       "      <td>8</td>\n",
       "      <td>45</td>\n",
       "      <td>4</td>\n",
       "      <td>1.0</td>\n",
       "      <td>2</td>\n",
       "      <td>0</td>\n",
       "      <td>0</td>\n",
       "      <td>0</td>\n",
       "      <td>0</td>\n",
       "      <td>1</td>\n",
       "      <td>0</td>\n",
       "    </tr>\n",
       "  </tbody>\n",
       "</table>\n",
       "</div>"
      ],
      "text/plain": [
       "   Age  Experience  Income  Family  CCAvg  Education  Mortgage  \\\n",
       "0   25           1      49       4    1.6          1         0   \n",
       "1   45          19      34       3    1.5          1         0   \n",
       "2   39          15      11       1    1.0          1         0   \n",
       "3   35           9     100       1    2.7          2         0   \n",
       "4   35           8      45       4    1.0          2         0   \n",
       "\n",
       "   Securities Account  CD Account  Online  CreditCard  target  \n",
       "0                   1           0       0           0       0  \n",
       "1                   1           0       0           0       0  \n",
       "2                   0           0       0           0       0  \n",
       "3                   0           0       0           0       0  \n",
       "4                   0           0       0           1       0  "
      ]
     },
     "execution_count": 5,
     "metadata": {},
     "output_type": "execute_result"
    }
   ],
   "source": [
    "df.head()"
   ]
  },
  {
   "cell_type": "code",
   "execution_count": 6,
   "id": "4c89f2b2",
   "metadata": {},
   "outputs": [],
   "source": [
    "df = pd.get_dummies(df,columns = ['Education'],drop_first = True)"
   ]
  },
  {
   "cell_type": "markdown",
   "id": "c1d63004",
   "metadata": {},
   "source": [
    "### Loading and Preprocessing the Data"
   ]
  },
  {
   "cell_type": "code",
   "execution_count": 7,
   "id": "09308679",
   "metadata": {},
   "outputs": [],
   "source": [
    "X = df.drop('target',axis = 1)\n",
    "y = df['target']"
   ]
  },
  {
   "cell_type": "code",
   "execution_count": 8,
   "id": "9c680584",
   "metadata": {},
   "outputs": [
    {
     "data": {
      "text/plain": [
       "12"
      ]
     },
     "execution_count": 8,
     "metadata": {},
     "output_type": "execute_result"
    }
   ],
   "source": [
    "len(X.columns)"
   ]
  },
  {
   "cell_type": "markdown",
   "id": "7b8912b4",
   "metadata": {},
   "source": [
    "### Splitting it into train and test and converting target into categorical data"
   ]
  },
  {
   "cell_type": "code",
   "execution_count": 9,
   "id": "5094b247",
   "metadata": {},
   "outputs": [],
   "source": [
    "X_train, X_test, y_train, y_test = train_test_split(X.values, y.values, \n",
    "                                                    test_size=0.33, \n",
    "                                                    random_state=42,\n",
    "                                                    shuffle = True)"
   ]
  },
  {
   "cell_type": "code",
   "execution_count": 10,
   "id": "409e9dcc",
   "metadata": {},
   "outputs": [],
   "source": [
    "y_train=np_utils.to_categorical(y_train,num_classes=2)\n",
    "y_test=np_utils.to_categorical(y_test,num_classes=2)"
   ]
  },
  {
   "cell_type": "markdown",
   "id": "2fd0daf4",
   "metadata": {},
   "source": [
    "### Defining a basic tensorflow ANN "
   ]
  },
  {
   "cell_type": "code",
   "execution_count": 95,
   "id": "b879919b",
   "metadata": {},
   "outputs": [],
   "source": [
    "model = Sequential([tf.keras.layers.Dense(12,input_shape = (12,),activation = 'relu'),\n",
    "                    tf.keras.layers.Dense(8,activation = 'relu'),\n",
    "                    tf.keras.layers.Dense(16, activation = 'relu'),\n",
    "                    tf.keras.layers.Dense(8,activation = 'relu'),\n",
    "                    tf.keras.layers.Dense(2,activation = 'softmax')\n",
    "                   ])"
   ]
  },
  {
   "cell_type": "code",
   "execution_count": 96,
   "id": "4aef7e50",
   "metadata": {},
   "outputs": [],
   "source": [
    "model.compile(optimizer = 'adam', metrics = ['accuracy'])"
   ]
  },
  {
   "cell_type": "markdown",
   "id": "4ce72043",
   "metadata": {},
   "source": [
    "### Fitness function for the genetic algorithm"
   ]
  },
  {
   "cell_type": "code",
   "execution_count": 97,
   "id": "a5cea837",
   "metadata": {},
   "outputs": [],
   "source": [
    "def fitness_func(solution, sol_idx):\n",
    "    global X_train, y_train, keras_ga, model\n",
    "    \n",
    "    model_weights_matrix = pygad.kerasga.model_weights_as_matrix(model = model,weights_vector = solution)\n",
    "    \n",
    "    model.set_weights(weights = model_weights_matrix)\n",
    "    \n",
    "    predictions = model.predict(X_train)\n",
    "    \n",
    "    loss = tf.keras.losses.CategoricalCrossentropy()\n",
    "    \n",
    "    solution_fitness = 1.0/(loss(y_train,predictions).numpy() + 0.0000000001)\n",
    "    \n",
    "    return solution_fitness"
   ]
  },
  {
   "cell_type": "code",
   "execution_count": 98,
   "id": "f90efdc1",
   "metadata": {},
   "outputs": [],
   "source": [
    "def callback_generation(ga_instance): #just prints the current generation number and the fitness value of the best solution in the current generation\n",
    "    print(\"Generation = {generation}\".format(generation=ga_instance.generations_completed))\n",
    "    print(\"Fitness    = {fitness}\".format(fitness=ga_instance.best_solution()[1]))\n",
    "    #print('weights = {weights}'.format(weights= ga_instance.best_solution()[0]))"
   ]
  },
  {
   "cell_type": "markdown",
   "id": "24c1acb1",
   "metadata": {},
   "source": [
    "### Instantiating kerasGA"
   ]
  },
  {
   "cell_type": "code",
   "execution_count": 99,
   "id": "513eef17",
   "metadata": {},
   "outputs": [],
   "source": [
    "keras_ga = KerasGA(model = model, num_solutions = 10)"
   ]
  },
  {
   "cell_type": "code",
   "execution_count": 100,
   "id": "4832b11d",
   "metadata": {},
   "outputs": [],
   "source": [
    "num_generations = 20\n",
    "num_parents_mating = 4\n",
    "initial_population = keras_ga.population_weights\n",
    "\n",
    "ga_instance = pygad.GA(num_generations=num_generations, \n",
    "                       num_parents_mating=num_parents_mating, \n",
    "                       initial_population=initial_population,\n",
    "                       fitness_func=fitness_func,\n",
    "                       on_generation=callback_generation,\n",
    "                       parent_selection_type = 'rank',\n",
    "                       keep_elitism = 10,\n",
    "                       crossover_probability = 1,\n",
    "                       mutation_type = 'random',\n",
    "                       mutation_by_replacement = False,\n",
    "                       #mutation_probability = 0.1,\n",
    "                       mutation_percent_genes = 15,\n",
    "                       random_mutation_min_val = -10,\n",
    "                       random_mutation_max_val = 10,\n",
    "                       #parallel_processing = ['thread', None],\n",
    "                      random_seed = 8,\n",
    "                      )"
   ]
  },
  {
   "cell_type": "markdown",
   "id": "661ed3c6",
   "metadata": {},
   "source": [
    "### Evolving through the generations"
   ]
  },
  {
   "cell_type": "code",
   "execution_count": 101,
   "id": "10446d9b",
   "metadata": {},
   "outputs": [
    {
     "name": "stdout",
     "output_type": "stream",
     "text": [
      "92/92 [==============================] - 0s 415us/step\n",
      "92/92 [==============================] - 0s 404us/step\n",
      "92/92 [==============================] - 0s 398us/step\n",
      "92/92 [==============================] - 0s 362us/step\n",
      "92/92 [==============================] - 0s 377us/step\n",
      "92/92 [==============================] - 0s 382us/step\n",
      "92/92 [==============================] - 0s 374us/step\n",
      "92/92 [==============================] - 0s 393us/step\n",
      "92/92 [==============================] - 0s 378us/step\n",
      "92/92 [==============================] - 0s 376us/step\n",
      "Generation = 1\n",
      "Fitness    = 1.1570005457741284\n",
      "Generation = 2\n",
      "Fitness    = 1.1570005457741284\n",
      "Generation = 3\n",
      "Fitness    = 1.1570005457741284\n",
      "Generation = 4\n",
      "Fitness    = 1.1570005457741284\n",
      "Generation = 5\n",
      "Fitness    = 1.1570005457741284\n",
      "Generation = 6\n",
      "Fitness    = 1.1570005457741284\n",
      "Generation = 7\n",
      "Fitness    = 1.1570005457741284\n",
      "Generation = 8\n",
      "Fitness    = 1.1570005457741284\n",
      "Generation = 9\n",
      "Fitness    = 1.1570005457741284\n",
      "Generation = 10\n",
      "Fitness    = 1.1570005457741284\n",
      "Generation = 11\n",
      "Fitness    = 1.1570005457741284\n",
      "Generation = 12\n",
      "Fitness    = 1.1570005457741284\n",
      "Generation = 13\n",
      "Fitness    = 1.1570005457741284\n",
      "Generation = 14\n",
      "Fitness    = 1.1570005457741284\n",
      "Generation = 15\n",
      "Fitness    = 1.1570005457741284\n",
      "Generation = 16\n",
      "Fitness    = 1.1570005457741284\n",
      "Generation = 17\n",
      "Fitness    = 1.1570005457741284\n",
      "Generation = 18\n",
      "Fitness    = 1.1570005457741284\n",
      "Generation = 19\n",
      "Fitness    = 1.1570005457741284\n",
      "Generation = 20\n",
      "Fitness    = 1.1570005457741284\n"
     ]
    }
   ],
   "source": [
    "with tf.device('/device:GPU:0'):\n",
    "     ga_instance.run()"
   ]
  },
  {
   "cell_type": "code",
   "execution_count": 102,
   "id": "f871fa01",
   "metadata": {},
   "outputs": [
    {
     "name": "stdout",
     "output_type": "stream",
     "text": [
      "Fitness value of the best solution = 1.1570005457741284\n",
      "Index of the best solution : 0\n"
     ]
    }
   ],
   "source": [
    "# Returning the details of the best solution.\n",
    "solution, solution_fitness, solution_idx = ga_instance.best_solution()\n",
    "print(\"Fitness value of the best solution = {solution_fitness}\".format(solution_fitness=solution_fitness))\n",
    "print(\"Index of the best solution : {solution_idx}\".format(solution_idx=solution_idx))"
   ]
  },
  {
   "cell_type": "code",
   "execution_count": 104,
   "id": "4b6fb210",
   "metadata": {},
   "outputs": [
    {
     "name": "stdout",
     "output_type": "stream",
     "text": [
      "92/92 [==============================] - 0s 364us/step\n",
      "Categorical Crossentropy :  0.8643038\n",
      "Accuracy :  0.93662214\n"
     ]
    }
   ],
   "source": [
    "# Fetch the parameters of the best solution.\n",
    "best_solution_weights = pygad.kerasga.model_weights_as_matrix(model=model,\n",
    "                                                              weights_vector=solution)\n",
    "model.set_weights(best_solution_weights)\n",
    "predictions = model.predict(X_train)\n",
    "# print(\"Predictions : \\n\", predictions)\n",
    "\n",
    "# Calculate the categorical crossentropy for the trained model.\n",
    "cce = tf.keras.losses.CategoricalCrossentropy()\n",
    "print(\"Categorical Crossentropy : \", cce(y_train, predictions).numpy())\n",
    "\n",
    "# Calculate the classification accuracy for the trained model.\n",
    "\n",
    "ca = tf.keras.metrics.CategoricalAccuracy()\n",
    "ca.update_state(y_train, predictions)\n",
    "accuracy = ca.result().numpy()\n",
    "print(\"Accuracy : \", accuracy)"
   ]
  },
  {
   "cell_type": "code",
   "execution_count": 105,
   "id": "3a2789c9",
   "metadata": {},
   "outputs": [
    {
     "name": "stdout",
     "output_type": "stream",
     "text": [
      "45/45 [==============================] - 0s 371us/step\n",
      "Testing Accuracy :  0.9437109\n"
     ]
    }
   ],
   "source": [
    "test_pred = model.predict(X_test)\n",
    "ca.reset_states()\n",
    "ca.update_state(y_test,test_pred)\n",
    "accuracy = ca.result().numpy()\n",
    "print(\"Testing Accuracy : \", accuracy)"
   ]
  },
  {
   "cell_type": "markdown",
   "id": "e7c67435",
   "metadata": {},
   "source": [
    "### This model has the following parameters:\n",
    "\n",
    "Number of Solutions = 10\n",
    "\n",
    "Number of Parents = 4\n",
    "\n",
    "Number of Generations = 20\n",
    "\n",
    "It produces a model with a training accuracy of 93% and testing accuracy of 94%"
   ]
  }
 ],
 "metadata": {
  "kernelspec": {
   "display_name": "Python [conda env:tf_gpu]",
   "language": "python",
   "name": "conda-env-tf_gpu-py"
  },
  "language_info": {
   "codemirror_mode": {
    "name": "ipython",
    "version": 3
   },
   "file_extension": ".py",
   "mimetype": "text/x-python",
   "name": "python",
   "nbconvert_exporter": "python",
   "pygments_lexer": "ipython3",
   "version": "3.8.16"
  }
 },
 "nbformat": 4,
 "nbformat_minor": 5
}
